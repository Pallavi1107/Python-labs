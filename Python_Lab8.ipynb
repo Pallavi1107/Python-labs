{
  "nbformat": 4,
  "nbformat_minor": 0,
  "metadata": {
    "colab": {
      "provenance": []
    },
    "kernelspec": {
      "name": "python3",
      "display_name": "Python 3"
    },
    "language_info": {
      "name": "python"
    }
  },
  "cells": [
    {
      "cell_type": "code",
      "execution_count": 1,
      "metadata": {
        "colab": {
          "base_uri": "https://localhost:8080/"
        },
        "id": "TA9sHVCWwAJH",
        "outputId": "acd81646-c806-4783-f070-f503865d10d6"
      },
      "outputs": [
        {
          "output_type": "stream",
          "name": "stdout",
          "text": [
            "Chars = 8, Digits = 3, Symbols = 4\n"
          ]
        }
      ],
      "source": [
        "# 1. Write a Python program to Count all letters, digits, and special symbols from the given string Input = “P@#yn26at^&i5ve” Output: Chars = 8 Digits = 3 Symbol = 4\n",
        "def count_chars_digits_symbols(input_str):\n",
        "    chars = digits = symbols = 0\n",
        "    for ch in input_str:\n",
        "        if ch.isalpha():\n",
        "            chars += 1\n",
        "        elif ch.isdigit():\n",
        "            digits += 1\n",
        "        else:\n",
        "            symbols += 1\n",
        "    return chars, digits, symbols\n",
        "\n",
        "input_str1 = \"P@#yn26at^&i5ve\"\n",
        "chars, digits, symbols = count_chars_digits_symbols(input_str1)\n",
        "print(f\"Chars = {chars}, Digits = {digits}, Symbols = {symbols}\")"
      ]
    },
    {
      "cell_type": "code",
      "source": [
        "# 2. Write a Python program to remove duplicate characters of a given string. Input = “String and String Function” Output: String and Function\n",
        "def remove_duplicate_chars(input_str):\n",
        "    words = input_str.split()\n",
        "    unique_words = []\n",
        "    for word in words:\n",
        "        if word not in unique_words:\n",
        "            unique_words.append(word)\n",
        "    return ' '.join(unique_words)\n",
        "\n",
        "input_str2 = \"String and String Function\"\n",
        "output2 = remove_duplicate_chars(input_str2)\n",
        "print(f\"Output: {output2}\")"
      ],
      "metadata": {
        "colab": {
          "base_uri": "https://localhost:8080/"
        },
        "id": "uSbHzj4Lwsb7",
        "outputId": "055cc8d7-c5ac-4028-9278-90d737f32064"
      },
      "execution_count": 2,
      "outputs": [
        {
          "output_type": "stream",
          "name": "stdout",
          "text": [
            "Output: String and Function\n"
          ]
        }
      ]
    },
    {
      "cell_type": "code",
      "source": [
        "# 3. Write a Python program to count Uppercase, Lowercase, special character and numeric values in a given string Input = “Hell0 W0rld ! 123 * # welcome to pYtHoN” Output: UpperCase : 5 LowerCase : 18 NumberCase : 5 SpecialCase : 11\n",
        "def count_cases(input_str):\n",
        "    upper = lower = digits = special = 0\n",
        "    for ch in input_str:\n",
        "        if ch.isupper():\n",
        "            upper += 1\n",
        "        elif ch.islower():\n",
        "            lower += 1\n",
        "        elif ch.isdigit():\n",
        "            digits += 1\n",
        "        else:\n",
        "            special += 1\n",
        "    return upper, lower, digits, special\n",
        "\n",
        "input_str3 = \"Hell0 W0rld ! 123 * # welcome to pYtHoN\"\n",
        "upper, lower, digits, special = count_cases(input_str3)\n",
        "print(f\"UpperCase = {upper}, LowerCase = {lower}, NumberCase = {digits}, SpecialCase = {special}\")"
      ],
      "metadata": {
        "colab": {
          "base_uri": "https://localhost:8080/"
        },
        "id": "_pbrj6mSw7iQ",
        "outputId": "eaa569e7-1ade-465c-9c1c-499396982a39"
      },
      "execution_count": 3,
      "outputs": [
        {
          "output_type": "stream",
          "name": "stdout",
          "text": [
            "UpperCase = 5, LowerCase = 18, NumberCase = 5, SpecialCase = 11\n"
          ]
        }
      ]
    },
    {
      "cell_type": "code",
      "source": [
        "# 4. Write a Python Count vowels in a string input= “Welcome to Python Assignment” Output: Total vowels are: 8\n",
        "def count_vowels(input_str):\n",
        "    vowels = \"aeiouAEIOU\"\n",
        "    count = sum(1 for ch in input_str if ch in vowels)\n",
        "    return count\n",
        "\n",
        "input_str4 = \"Welcome to Python Assignment\"\n",
        "vowel_count = count_vowels(input_str4)\n",
        "print(f\"Total vowels are: {vowel_count}\")"
      ],
      "metadata": {
        "colab": {
          "base_uri": "https://localhost:8080/"
        },
        "id": "-z3zuxtCxJK0",
        "outputId": "5563a880-084e-4486-9f0b-e0d2eb49c4c8"
      },
      "execution_count": 4,
      "outputs": [
        {
          "output_type": "stream",
          "name": "stdout",
          "text": [
            "Total vowels are: 8\n"
          ]
        }
      ]
    }
  ]
}