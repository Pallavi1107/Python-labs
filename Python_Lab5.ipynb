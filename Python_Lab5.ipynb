{
  "nbformat": 4,
  "nbformat_minor": 0,
  "metadata": {
    "colab": {
      "provenance": []
    },
    "kernelspec": {
      "name": "python3",
      "display_name": "Python 3"
    },
    "language_info": {
      "name": "python"
    }
  },
  "cells": [
    {
      "cell_type": "code",
      "execution_count": 1,
      "metadata": {
        "colab": {
          "base_uri": "https://localhost:8080/"
        },
        "id": "SN1JU8cfHBWs",
        "outputId": "2a9fc910-d1db-4d38-cff0-579f0db939f7"
      },
      "outputs": [
        {
          "output_type": "stream",
          "name": "stdout",
          "text": [
            "10\n",
            "9\n",
            "8\n",
            "7\n",
            "6\n",
            "5\n",
            "4\n",
            "3\n",
            "2\n",
            "1\n"
          ]
        }
      ],
      "source": [
        "# 1.  Print the reverse order series  using a while loop\n",
        "# Initialize the starting number\n",
        "num = 10\n",
        "\n",
        "# Use a while loop to print numbers in reverse order\n",
        "while num > 0:\n",
        "    print(num)\n",
        "    num -= 1  # Decrement the number"
      ]
    },
    {
      "cell_type": "code",
      "source": [
        "# 2.Create a code that describe the use of break statement in while loop\n",
        "# Initialize the counter\n",
        "num = 1\n",
        "\n",
        "# Use a while loop with a break statement\n",
        "while True:\n",
        "    print(num)\n",
        "    num += 1\n",
        "\n",
        "    # Break the loop when num reaches 5\n",
        "    if num > 5:\n",
        "        print(\"Breaking out of the loop!\")\n",
        "        break"
      ],
      "metadata": {
        "colab": {
          "base_uri": "https://localhost:8080/"
        },
        "id": "bJG55eLeHFbV",
        "outputId": "a349acac-20bf-4c95-b470-25ca7f05cc6b"
      },
      "execution_count": 2,
      "outputs": [
        {
          "output_type": "stream",
          "name": "stdout",
          "text": [
            "1\n",
            "2\n",
            "3\n",
            "4\n",
            "5\n",
            "Breaking out of the loop!\n"
          ]
        }
      ]
    },
    {
      "cell_type": "code",
      "source": [
        "# 3.Write a Python program using a while loop to iterate through each character of the string \"Python\" and print each character on a new line. Additionally, calculate and print the length of the string.\n",
        "# The given string\n",
        "text = \"Python\"\n",
        "\n",
        "# Initialize the index and length\n",
        "index = 0\n",
        "length = len(text)\n",
        "\n",
        "# Use a while loop to iterate through each character\n",
        "while index < length:\n",
        "    print(text[index])\n",
        "    index += 1\n",
        "\n",
        "# Print the length of the string\n",
        "print(f\"The length of the string is: {length}\")"
      ],
      "metadata": {
        "colab": {
          "base_uri": "https://localhost:8080/"
        },
        "id": "O5dFt--nHFsc",
        "outputId": "346449d2-dac6-463c-b911-e9545cdc1746"
      },
      "execution_count": 3,
      "outputs": [
        {
          "output_type": "stream",
          "name": "stdout",
          "text": [
            "P\n",
            "y\n",
            "t\n",
            "h\n",
            "o\n",
            "n\n",
            "The length of the string is: 6\n"
          ]
        }
      ]
    },
    {
      "cell_type": "code",
      "source": [
        "# 4. Write a Python program that takes an integer input from the user and calculates its factorial using a while loop. Display the result as the factorial of the entered number.\n",
        "# Take an integer input from the user\n",
        "num = int(input(\"Enter an integer to calculate its factorial: \"))\n",
        "\n",
        "# Initialize factorial to 1\n",
        "factorial = 1\n",
        "\n",
        "# Use a while loop to calculate the factorial\n",
        "i = 1\n",
        "while i <= num:\n",
        "    factorial *= i\n",
        "    i += 1\n",
        "\n",
        "# Display the result\n",
        "print(f\"The factorial of {num} is: {factorial}\")"
      ],
      "metadata": {
        "colab": {
          "base_uri": "https://localhost:8080/"
        },
        "id": "bZdctwK0HF_M",
        "outputId": "55f4ee85-86b7-4c8c-9606-444ef746081d"
      },
      "execution_count": 4,
      "outputs": [
        {
          "output_type": "stream",
          "name": "stdout",
          "text": [
            "Enter an integer to calculate its factorial: 5\n",
            "The factorial of 5 is: 120\n"
          ]
        }
      ]
    }
  ]
}