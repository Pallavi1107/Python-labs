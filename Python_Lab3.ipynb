{
  "nbformat": 4,
  "nbformat_minor": 0,
  "metadata": {
    "colab": {
      "provenance": []
    },
    "kernelspec": {
      "name": "python3",
      "display_name": "Python 3"
    },
    "language_info": {
      "name": "python"
    }
  },
  "cells": [
    {
      "cell_type": "code",
      "execution_count": 1,
      "metadata": {
        "colab": {
          "base_uri": "https://localhost:8080/"
        },
        "id": "4N1nsb_abBdX",
        "outputId": "449f680c-b88c-4952-f3ef-9d4b7ff92bc4"
      },
      "outputs": [
        {
          "output_type": "stream",
          "name": "stdout",
          "text": [
            "Enter the number: 2\n",
            "This number is Even\n"
          ]
        }
      ],
      "source": [
        "#1.Write a Python program that takes a number as input and prints \"Even\" if the number is even and \"Odd\" if it's odd.\n",
        "number=int(input(\"Enter the number: \"))\n",
        "if number%2==0:\n",
        "  print(\"This number is Even\")\n",
        "else:\n",
        "  print(\"This number is Odd\")"
      ]
    },
    {
      "cell_type": "code",
      "source": [
        "#2.Create a Python program that checks whether a person is eligible to vote (18 years or older) based on their age.\n",
        "age=int(input(\"Enter the age: \"))\n",
        "if age>=18:\n",
        "  print(\"You are eligible to vote\")\n",
        "else:\n",
        "  print(\"You are not eligible to vote\")\n"
      ],
      "metadata": {
        "colab": {
          "base_uri": "https://localhost:8080/"
        },
        "id": "0UTXDLYOfrf-",
        "outputId": "e0aa8be2-a795-4465-f8de-a29732f10096"
      },
      "execution_count": 3,
      "outputs": [
        {
          "output_type": "stream",
          "name": "stdout",
          "text": [
            "Enter the age: 12\n",
            "You are not eligible to vote\n"
          ]
        }
      ]
    },
    {
      "cell_type": "code",
      "source": [
        "#3.Write a Python program that determines if a given year is a leap year or not.\n",
        "year = int(input(\"Enter a year: \"))\n",
        "if (year % 4 == 0):\n",
        "    if (year % 100 == 0):\n",
        "        if (year % 400 == 0):\n",
        "            print(f\"{year} is a leap year.\")\n",
        "        else:\n",
        "            print(f\"{year} is not a leap year.\")\n",
        "    else:\n",
        "        print(f\"{year} is a leap year.\")\n",
        "else:\n",
        "    print(f\"{year} is not a leap year.\")"
      ],
      "metadata": {
        "colab": {
          "base_uri": "https://localhost:8080/"
        },
        "id": "yev5XR88gDjo",
        "outputId": "1947d2be-d258-42ed-d7d0-27b893e5d156"
      },
      "execution_count": 4,
      "outputs": [
        {
          "output_type": "stream",
          "name": "stdout",
          "text": [
            "Enter a year: 2023\n",
            "2023 is not a leap year.\n"
          ]
        }
      ]
    },
    {
      "cell_type": "code",
      "source": [
        "#4.Create a Python program that checks if a user-given number is positive, negative, or zero.\n",
        "num=int(input(\"Enter the number: \"))\n",
        "if num>0:\n",
        "  print(\"This number is positive\")\n",
        "elif num<0:\n",
        "  print(\"This number is negative\")\n",
        "else:\n",
        "  print(\"This number is zero\")"
      ],
      "metadata": {
        "colab": {
          "base_uri": "https://localhost:8080/"
        },
        "id": "bPkRB5s1gxax",
        "outputId": "d61b5dbe-1115-46f5-ab0d-a2c1da561d36"
      },
      "execution_count": 8,
      "outputs": [
        {
          "output_type": "stream",
          "name": "stdout",
          "text": [
            "Enter the number: 56\n",
            "This number is positive\n"
          ]
        }
      ]
    },
    {
      "cell_type": "code",
      "source": [
        "#5.Write a Python program that determines the largest of three numbers entered by the user.\n",
        "num1 = float(input(\"Enter the first number: \"))\n",
        "num2 = float(input(\"Enter the second number: \"))\n",
        "num3 = float(input(\"Enter the third number: \"))\n",
        "if (num1 >= num2) and (num1 >= num3):\n",
        "    largest = num1\n",
        "elif (num2 >= num1) and (num2 >= num3):\n",
        "    largest = num2\n",
        "else:\n",
        "    largest = num3\n",
        "print(f\"The largest number is: {largest}\")"
      ],
      "metadata": {
        "colab": {
          "base_uri": "https://localhost:8080/"
        },
        "id": "HkV_JxN7g_cg",
        "outputId": "ac66ec54-237b-440c-e2eb-d1e86067f195"
      },
      "execution_count": 5,
      "outputs": [
        {
          "output_type": "stream",
          "name": "stdout",
          "text": [
            "Enter the first number: 2.6\n",
            "Enter the second number: 34\n",
            "Enter the third number: 45\n",
            "The largest number is: 45.0\n"
          ]
        }
      ]
    }
  ]
}