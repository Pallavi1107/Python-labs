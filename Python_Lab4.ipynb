{
  "nbformat": 4,
  "nbformat_minor": 0,
  "metadata": {
    "colab": {
      "provenance": []
    },
    "kernelspec": {
      "name": "python3",
      "display_name": "Python 3"
    },
    "language_info": {
      "name": "python"
    }
  },
  "cells": [
    {
      "cell_type": "code",
      "execution_count": 1,
      "metadata": {
        "colab": {
          "base_uri": "https://localhost:8080/"
        },
        "id": "B2N0hw9gDc-B",
        "outputId": "2afffc4c-617a-4272-e2a9-413b08086d01"
      },
      "outputs": [
        {
          "output_type": "stream",
          "name": "stdout",
          "text": [
            "The division of 10 by 2 is: 5.0\n",
            "Division by zero is not allowed.\n"
          ]
        }
      ],
      "source": [
        "# 1. Declare a div() function with two parameters. Then call the function and pass two numbers and display their division.\n",
        "# Define the div function with two parameters\n",
        "def div(a, b):\n",
        "    # Check if the denominator is not zero to avoid division by zero error\n",
        "    if b != 0:\n",
        "        result = a / b\n",
        "        print(f\"The division of {a} by {b} is: {result}\")\n",
        "    else:\n",
        "        print(\"Division by zero is not allowed.\")\n",
        "\n",
        "# Call the div function with two numbers\n",
        "div(10, 2)\n",
        "div(15, 0)  # This will test the division by zero condition"
      ]
    },
    {
      "cell_type": "code",
      "source": [
        "# 2. Declare a square() function with one parameter.Then call the function and pass one number and display the square of that number .\n",
        "# Define the square function with one parameter\n",
        "def square(x):\n",
        "    result = x ** 2  # Calculate the square of the number\n",
        "    print(f\"The square of {x} is: {result}\")\n",
        "\n",
        "# Call the square function with one number\n",
        "square(5)\n",
        "square(10)"
      ],
      "metadata": {
        "colab": {
          "base_uri": "https://localhost:8080/"
        },
        "id": "nIuF1JkcE0py",
        "outputId": "620c6168-0a53-4924-ed72-9c25cbc07788"
      },
      "execution_count": 3,
      "outputs": [
        {
          "output_type": "stream",
          "name": "stdout",
          "text": [
            "The square of 5 is: 25\n",
            "The square of 10 is: 100\n"
          ]
        }
      ]
    },
    {
      "cell_type": "markdown",
      "source": [],
      "metadata": {
        "id": "h1XjH1mEFZ1D"
      }
    },
    {
      "cell_type": "markdown",
      "source": [],
      "metadata": {
        "id": "dDYgYBZnFaYW"
      }
    },
    {
      "cell_type": "code",
      "source": [
        "#3. Using max() and min() functions display the maximum and minimum of 5 random numbers.\n",
        "import random\n",
        "\n",
        "# Generate 5 random numbers between a specified range (e.g., 1 to 100)\n",
        "random_numbers = [random.randint(1, 100) for _ in range(5)]\n",
        "\n",
        "# Display the list of random numbers\n",
        "print(\"Random numbers:\", random_numbers)\n",
        "\n",
        "# Find and display the maximum and minimum numbers\n",
        "max_value = max(random_numbers)\n",
        "min_value = min(random_numbers)\n",
        "\n",
        "print(f\"The maximum number is: {max_value}\")\n",
        "print(f\"The minimum number is: {min_value}\")"
      ],
      "metadata": {
        "colab": {
          "base_uri": "https://localhost:8080/"
        },
        "id": "DgNu0bW4FPen",
        "outputId": "3335d435-4644-46a3-a253-e77b7e9025d5"
      },
      "execution_count": 5,
      "outputs": [
        {
          "output_type": "stream",
          "name": "stdout",
          "text": [
            "Random numbers: [96, 34, 75, 65, 75]\n",
            "The maximum number is: 96\n",
            "The minimum number is: 34\n"
          ]
        }
      ]
    },
    {
      "cell_type": "code",
      "source": [
        "# 4. Accept a name from the user and display that in lower case using lower() function\n",
        "# Accept a name from the user\n",
        "name = input(\"Enter your name: \")\n",
        "\n",
        "# Convert the name to lowercase using the lower() function\n",
        "lowercase_name = name.lower()\n",
        "\n",
        "# Display the name in lowercase\n",
        "print(f\"Your name in lowercase is: {lowercase_name}\")"
      ],
      "metadata": {
        "colab": {
          "base_uri": "https://localhost:8080/"
        },
        "id": "sdCjGnQZFm9m",
        "outputId": "073c66f5-5bcf-4875-ed2b-25ea5d399d20"
      },
      "execution_count": 7,
      "outputs": [
        {
          "output_type": "stream",
          "name": "stdout",
          "text": [
            "Enter your name: URmil\n",
            "Your name in lowercase is: urmil\n"
          ]
        }
      ]
    }
  ]
}