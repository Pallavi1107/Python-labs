{
  "nbformat": 4,
  "nbformat_minor": 0,
  "metadata": {
    "colab": {
      "provenance": []
    },
    "kernelspec": {
      "name": "python3",
      "display_name": "Python 3"
    },
    "language_info": {
      "name": "python"
    }
  },
  "cells": [
    {
      "cell_type": "code",
      "execution_count": null,
      "metadata": {
        "colab": {
          "base_uri": "https://localhost:8080/"
        },
        "id": "A72S_hSiVMc5",
        "outputId": "3bae4e0e-4155-4c6c-aa02-5d7bf0842fc3"
      },
      "outputs": [
        {
          "output_type": "stream",
          "name": "stdout",
          "text": [
            "Enter the number: 34\n",
            "This number is even\n"
          ]
        }
      ],
      "source": [
        "#1. Using input() function take one number from the user and using ternary operators check whether the number is even or odd\n",
        "number=int(input(\"Enter the number: \"))\n",
        "if number%2==0:\n",
        "  print(\"This number is even\")\n",
        "else:\n",
        "  print(\"This number is odd\")"
      ]
    },
    {
      "cell_type": "code",
      "source": [
        "#2.Using input function take two number and then swap the number\n",
        "number1=int(input(\"Enter the first number: \"))\n",
        "number2=int(input(\"Enter the second number: \"))\n",
        "number1,number2=number2,number1\n",
        "print(\"The number1 value is: \",number1)\n",
        "print(\"The number2 value is : \",number2)"
      ],
      "metadata": {
        "colab": {
          "base_uri": "https://localhost:8080/"
        },
        "id": "ZB4EZjUaViUp",
        "outputId": "38f3958f-d8ea-4167-e1e0-6f9025f956bd"
      },
      "execution_count": null,
      "outputs": [
        {
          "output_type": "stream",
          "name": "stdout",
          "text": [
            "Enter the first number: 3\n",
            "Enter the second number: 4\n",
            "The number1 value is:  4\n",
            "The number2 value is :  3\n"
          ]
        }
      ]
    },
    {
      "cell_type": "code",
      "source": [
        "#3.Write a Program to Convert Kilometers to Miles\n",
        "conversion_factor = 0.621371\n",
        "kilometers = float(input(\"Enter distance in kilometers: \"))\n",
        "miles = kilometers * conversion_factor\n",
        "print(f\"{kilometers} kilometers is equal to {miles:.2f} miles.\")"
      ],
      "metadata": {
        "colab": {
          "base_uri": "https://localhost:8080/"
        },
        "id": "Whzoj06lVzZe",
        "outputId": "95b46258-c716-4f45-d0dd-0fad7f915084"
      },
      "execution_count": null,
      "outputs": [
        {
          "output_type": "stream",
          "name": "stdout",
          "text": [
            "Enter distance in kilometers: 5.0\n",
            "5.0 kilometers is equal to 3.11 miles.\n"
          ]
        }
      ]
    },
    {
      "cell_type": "code",
      "source": [
        "#4.Find the Simple Interest on Rs. 200 for 5 years at 5% per year.\n",
        "principal = 200\n",
        "rate = 5\n",
        "time = 5\n",
        "simple_interest = (principal * rate * time) / 100\n",
        "print(\"The Simple Interest on Rs.\", principal, \"for\", time, \"years at\", rate, \"% per year is Rs.\", simple_interest)"
      ],
      "metadata": {
        "colab": {
          "base_uri": "https://localhost:8080/"
        },
        "id": "S2acCzoVWWdG",
        "outputId": "76d485c2-2dc2-48a7-b13b-f221da00fe81"
      },
      "execution_count": null,
      "outputs": [
        {
          "output_type": "stream",
          "name": "stdout",
          "text": [
            "The Simple Interest on Rs. 200 for 5 years at 5 % per year is Rs. 50.0\n"
          ]
        }
      ]
    }
  ]
}