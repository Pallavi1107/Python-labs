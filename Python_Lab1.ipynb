{
  "nbformat": 4,
  "nbformat_minor": 0,
  "metadata": {
    "colab": {
      "provenance": []
    },
    "kernelspec": {
      "name": "python3",
      "display_name": "Python 3"
    },
    "language_info": {
      "name": "python"
    }
  },
  "cells": [
    {
      "cell_type": "code",
      "execution_count": null,
      "metadata": {
        "colab": {
          "base_uri": "https://localhost:8080/"
        },
        "id": "O5L1kyJeTyCn",
        "outputId": "78c9ff14-01c4-486d-b157-2e64c8f264d3"
      },
      "outputs": [
        {
          "output_type": "stream",
          "name": "stdout",
          "text": [
            "Enter the value first:24\n",
            "Enter the value Second:2\n",
            "The multiplication of a&b is: 48\n"
          ]
        }
      ],
      "source": [
        "#1.Calculate the multiplication and sum of two numbers\n",
        "Number1=int(input(\"Enter the value first:\"))\n",
        "Number2=int(input(\"Enter the value Second:\"))\n",
        "Number3=Number1*Number2\n",
        "print(\"The multiplication of a&b is:\",Number3)"
      ]
    },
    {
      "cell_type": "code",
      "source": [
        "#2.Declare two variables and print that which variable is largest using ternary operators\n",
        "Number1=int(input(\"Enter the value first:\"))\n",
        "Number2=int(input(\"Enter the value Second:\"))\n",
        "Number3=max(Number1,Number2)\n",
        "print(\"The maximum value is\",Number3)"
      ],
      "metadata": {
        "colab": {
          "base_uri": "https://localhost:8080/"
        },
        "id": "txcdsz1GT3pE",
        "outputId": "599b7ff1-9201-427c-8f94-ebb621f83007"
      },
      "execution_count": null,
      "outputs": [
        {
          "output_type": "stream",
          "name": "stdout",
          "text": [
            "Enter the value first:34\n",
            "Enter the value Second:2\n",
            "The maximum value is 34\n"
          ]
        }
      ]
    },
    {
      "cell_type": "code",
      "source": [
        "#3. Python program to convert the temperature in degree centigrade to Fahrenheit\n",
        "Base=int(input(\"Enter the value first:\"))\n",
        "Height=int(input(\"Enter the value Second:\"))\n",
        "c=1/2*Base*Height\n",
        "print(c)"
      ],
      "metadata": {
        "colab": {
          "base_uri": "https://localhost:8080/"
        },
        "id": "zzZaaWysUQeW",
        "outputId": "2f0209b7-02af-4f77-d033-8996513a38dd"
      },
      "execution_count": null,
      "outputs": [
        {
          "output_type": "stream",
          "name": "stdout",
          "text": [
            "Enter the value first:45\n",
            "Enter the value Second:67\n",
            "1507.5\n"
          ]
        }
      ]
    },
    {
      "cell_type": "code",
      "source": [
        "#4. Python program to find the area of a triangle whose sides are given\n",
        "celsius = float(input(\"Enter temperature in Celsius: \"))\n",
        "fahrenheit = (celsius * 9/5) + 32\n",
        "print(celsius, \"°C is equal to\", fahrenheit, \"°F\")"
      ],
      "metadata": {
        "colab": {
          "base_uri": "https://localhost:8080/"
        },
        "id": "CTZETdwbWYAT",
        "outputId": "9b40825a-e8ab-4130-e68f-175406f246af"
      },
      "execution_count": null,
      "outputs": [
        {
          "output_type": "stream",
          "name": "stdout",
          "text": [
            "Enter temperature in Celsius: 0\n",
            "0.0 °C is equal to 32.0 °F\n"
          ]
        }
      ]
    }
  ]
}